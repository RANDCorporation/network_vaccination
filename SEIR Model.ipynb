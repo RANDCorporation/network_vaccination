{
 "cells": [
  {
   "cell_type": "markdown",
   "metadata": {},
   "source": [
    "Network Analysis of Vaccination Strategies  \n",
    "Copyright (C) 2020 by The RAND Corporation  \n",
    "See LICENSE.txt and README.txt for information on usage and licensing\n",
    "\n",
    "# SEIR Model Notebook\n",
    "\n",
    "We will consider a Markovian SEIR model on the contact networks. The transitions are:\n",
    "- $S \\rightarrow E$ occurs at a rate $\\beta$, which will be calibrated to produce a doubling period of 3 days in a pre-social distancing setting\n",
    "- $E \\rightarrow I$ occurs at an inverse rate $a^{-1} = 3$ days \n",
    "- $I \\rightarrow R$ occurs at a rate $\\gamma^{-1} = 14$ days\n",
    "\n",
    "We will also incorporate the contact time between nodes. This is represented by the weight $w_{ij}$ of an edge $(i,j)$. How should the edge weight affect the transmission probability? The simplest approach, and the one which we will adopt, is to simply rescale the transmission rate by the edge weights, i.e. $\\beta_{ij} = w_{ij} \\beta$. The transmission probability then becomes $p(\\beta_{ij}) = 1 - e^{-w_{ij} \\beta D}$. "
   ]
  },
  {
   "cell_type": "code",
   "execution_count": 1,
   "metadata": {},
   "outputs": [],
   "source": [
    "import collections, os, pickle\n",
    "import powerlaw\n",
    "import numpy as np\n",
    "import pandas as pd\n",
    "import networkx as nx\n",
    "import seaborn as sns\n",
    "import random, scipy\n",
    "from tqdm.notebook import tqdm\n",
    "\n",
    "from utils import *\n",
    "import EoN\n",
    "\n",
    "import matplotlib.pyplot as plt\n",
    "import matplotlib.style as style \n",
    "import matplotlib.ticker as mticker\n",
    "from mpl_toolkits.axes_grid1.inset_locator import (inset_axes, InsetPosition, mark_inset)\n",
    "\n",
    "plt.style.use('figures/theme_bw.mplstyle')\n",
    "%matplotlib inline\n",
    "\n",
    "fontsize = 16\n",
    "plt.rcParams.update({\n",
    "    'font.size': fontsize, \n",
    "    'axes.labelsize': fontsize, \n",
    "    'legend.fontsize': fontsize,\n",
    "    'xtick.labelsize': fontsize,\n",
    "    'ytick.labelsize': fontsize,\n",
    "    'axes.titlesize': fontsize\n",
    "                    })\n",
    "\n",
    "f = mticker.ScalarFormatter(useOffset=False, useMathText=True)\n",
    "g = lambda x,pos : \"${}$\".format(f._formatSciNotation('%1.2e' % x))\n",
    "fmt = mticker.FuncFormatter(g)\n",
    "#pd.options.display.float_format = \"{:,.3f}\".format\n",
    "\n",
    "colormap = plt.rcParams['axes.prop_cycle'].by_key()['color']"
   ]
  },
  {
   "cell_type": "code",
   "execution_count": 2,
   "metadata": {},
   "outputs": [
    {
     "data": {
      "text/plain": [
       "{'pre': 214393, 'post': 130910}"
      ]
     },
     "execution_count": 2,
     "metadata": {},
     "output_type": "execute_result"
    }
   ],
   "source": [
    "## load the contact networks\n",
    "#G_pre = nx.read_gpickle(\"data/G_pre.gpickle\")\n",
    "#G_post = nx.read_gpickle(\"data/G_post.gpickle\")\n",
    "\n",
    "G_pre = nx.read_weighted_edgelist(\"data/G_pre.adjlist\", nodetype=float)\n",
    "G_post = nx.read_weighted_edgelist(\"data/G_post.adjlist\", nodetype=float)\n",
    "\n",
    "## get the number of nodes in each graph\n",
    "N_pre = G_pre.number_of_nodes()\n",
    "N_post = G_post.number_of_nodes()\n",
    "N_dict = {'pre':N_pre, 'post':N_post}\n",
    "N_dict"
   ]
  },
  {
   "cell_type": "markdown",
   "metadata": {},
   "source": [
    "The edge weights are in units of days (see the function `graph_from_edge_list` in utils.py)"
   ]
  },
  {
   "cell_type": "code",
   "execution_count": 3,
   "metadata": {},
   "outputs": [
    {
     "data": {
      "text/plain": [
       "(2979831.0, 3202377.0)"
      ]
     },
     "execution_count": 3,
     "metadata": {},
     "output_type": "execute_result"
    }
   ],
   "source": [
    "edges_pre = list(G_pre.edges())\n",
    "edges_pre[0]"
   ]
  },
  {
   "cell_type": "code",
   "execution_count": 4,
   "metadata": {},
   "outputs": [
    {
     "data": {
      "text/plain": [
       "<networkx.classes.graph.Graph at 0x7ff7fc34a3d0>"
      ]
     },
     "execution_count": 4,
     "metadata": {},
     "output_type": "execute_result"
    }
   ],
   "source": [
    "G_pre"
   ]
  },
  {
   "cell_type": "code",
   "execution_count": 5,
   "metadata": {},
   "outputs": [
    {
     "data": {
      "text/plain": [
       "0.0016550925925925926"
      ]
     },
     "execution_count": 5,
     "metadata": {},
     "output_type": "execute_result"
    }
   ],
   "source": [
    "G_pre[edges_pre[1][0]][edges_pre[1][1]][\"weight\"]"
   ]
  },
  {
   "cell_type": "markdown",
   "metadata": {},
   "source": [
    "In this notebook we will implement vaccination by removing vaccinated nodes from the graph."
   ]
  },
  {
   "cell_type": "code",
   "execution_count": 6,
   "metadata": {},
   "outputs": [],
   "source": [
    "def vaccination_uniform(G, f):\n",
    "    '''\n",
    "    Remove a fraction f of nodes from a graph G. \n",
    "    The nodes will be removed uniformly at random,\n",
    "    corresponding to an untargeted vaccination strategy.\n",
    "    '''\n",
    "    G = G.copy()\n",
    "    Ndelete = int(f * G.number_of_nodes())\n",
    "    delete_nodes = np.random.choice(list(G.nodes()), size=Ndelete, replace=False)\n",
    "    for node in delete_nodes:\n",
    "            G.remove_node(node)\n",
    "    return G\n",
    "\n",
    "\n",
    "def vaccination_targeted(G, f):\n",
    "    '''\n",
    "    Remove the f*N highest degree nodes, corresponding \n",
    "    to a targeted vaccination strategy.\n",
    "    '''\n",
    "    G = G.copy()\n",
    "    Ndelete = int(f * G.number_of_nodes())\n",
    "    delete_nodes = np.asarray(sorted(G.degree, key=lambda x: x[1], reverse=True))[:Ndelete,0]\n",
    "    for node in delete_nodes:\n",
    "            G.remove_node(node)\n",
    "    return G"
   ]
  },
  {
   "cell_type": "markdown",
   "metadata": {},
   "source": [
    "Build a wrapper function that builds the SEIR model for a given network, applies the vaccination strategy, and then evaluates the model for multiple runs."
   ]
  },
  {
   "cell_type": "code",
   "execution_count": 7,
   "metadata": {},
   "outputs": [],
   "source": [
    "def initial_nodes(G):\n",
    "    '''initial nodes to seed the pandemic with'''\n",
    "    ## infect a single degree-50 node (or next best degree)\n",
    "    return [degree_getter_improved(G, 50)]"
   ]
  },
  {
   "cell_type": "code",
   "execution_count": 8,
   "metadata": {},
   "outputs": [],
   "source": [
    "def run_model(iterations, beta, socialdist='pre', vacc='none', vacc_f=0, tmax=float('Inf'), verbose=False):\n",
    "    '''\n",
    "    Run the model with the specified parameters and record the parameters and results in a dict.\n",
    "    Note: EoN is capable of returning a more detailed record of results by passing in return_full_results=True\n",
    "    to the Gillespie_simple_contagion method, but the data object is about 7 times as large.\n",
    "    '''\n",
    "    \n",
    "    ## define the SEIR model dynamics\n",
    "    spontaneous_transition_graph = nx.DiGraph()\n",
    "    spontaneous_transition_graph.add_node('S')\n",
    "    spontaneous_transition_graph.add_edge('E', 'I', rate = 1/3)\n",
    "    spontaneous_transition_graph.add_edge('I', 'R', rate = 1/14)\n",
    "\n",
    "    nbr_induced_transition_graph = nx.DiGraph()\n",
    "    nbr_induced_transition_graph.add_edge(('I', 'S'), ('I', 'E'), rate = beta, weight_label='weight')\n",
    "    \n",
    "    return_statuses = ('S', 'E', 'I', 'R')\n",
    "\n",
    "    ## pre or post social distancing\n",
    "    if socialdist == 'pre':\n",
    "        G = G_pre\n",
    "    elif socialdist == 'post':\n",
    "        G = G_post\n",
    "    else:\n",
    "        print('Error! Network not recognized.')\n",
    "    \n",
    "    ## vaccination\n",
    "    if vacc == 'targeted':\n",
    "        G = vaccination_targeted(G, vacc_f)\n",
    "    elif vacc == 'uniform':\n",
    "        G = vaccination_uniform(G, vacc_f)\n",
    "\n",
    "    ## relabel the nodes\n",
    "    G = nx.convert_node_labels_to_integers(G)\n",
    "    \n",
    "    ## run the simulations\n",
    "    tlist = []\n",
    "    Slist = []\n",
    "    Elist = []\n",
    "    Ilist = []\n",
    "    Rlist = []\n",
    "    for i in range(iterations):\n",
    "\n",
    "        ## initial conditions\n",
    "        initial_condition = collections.defaultdict(lambda: 'S')\n",
    "        init_nodes = initial_nodes(G)\n",
    "        for node in init_nodes:\n",
    "            initial_condition[node] = 'I'\n",
    "\n",
    "        ## Note: some runs will have the pandemic die out before it catches        \n",
    "        t, S, E, I, R = EoN.Gillespie_simple_contagion(G, \n",
    "                                           spontaneous_transition_graph, \n",
    "                                           nbr_induced_transition_graph, \n",
    "                                           initial_condition, \n",
    "                                           return_statuses,\n",
    "                                           #return_full_data=True,\n",
    "                                           tmax = tmax)\n",
    "\n",
    "        tlist.append(t)\n",
    "        Slist.append(S)\n",
    "        Elist.append(E)\n",
    "        Ilist.append(I)\n",
    "        Rlist.append(R)\n",
    "        \n",
    "    model_dict = {'socialdist':socialdist,\n",
    "                  'vacc':vacc,\n",
    "                  'vacc_f':vacc_f,\n",
    "                  'iterations':iterations,\n",
    "                  'beta':beta,\n",
    "                  't':tlist,\n",
    "                  'S':Slist,\n",
    "                  'E':Elist,\n",
    "                  'I':Ilist,\n",
    "                  'R':Rlist\n",
    "                 }\n",
    "    \n",
    "    ## clear G, if that helps at all\n",
    "    G = None\n",
    "    \n",
    "    return model_dict"
   ]
  },
  {
   "cell_type": "markdown",
   "metadata": {},
   "source": [
    "Do an example run:"
   ]
  },
  {
   "cell_type": "code",
   "execution_count": 9,
   "metadata": {},
   "outputs": [],
   "source": [
    "result = run_model(iterations=3, beta=5, socialdist='post', vacc='none', vacc_f=0, verbose=True)"
   ]
  },
  {
   "cell_type": "code",
   "execution_count": 10,
   "metadata": {},
   "outputs": [
    {
     "data": {
      "image/png": "[encoded data removed]",
      "text/plain": [
       "<Figure size 648x432 with 1 Axes>"
      ]
     },
     "metadata": {
      "needs_background": "light"
     },
     "output_type": "display_data"
    }
   ],
   "source": [
    "fig, ax = plt.subplots(figsize=(9,6))\n",
    "for i in range(3):\n",
    "    ax.plot(result['t'][i], result['I'][i], lw=2)\n",
    "ax.set_xlabel('$t$')\n",
    "ax.set_ylabel('Number infected')\n",
    "plt.title('Social Distancing: %s, Vaccination: %s' %(result['socialdist'], result['vacc']))\n",
    "plt.show()"
   ]
  },
  {
   "cell_type": "markdown",
   "metadata": {},
   "source": [
    "### Model Calibration\n",
    "\n",
    "Calibrate the model by selecting the transmission rate $\\beta$ such that it takes 14 days for the disease to go from 50 to 500 infected."
   ]
  },
  {
   "cell_type": "code",
   "execution_count": 11,
   "metadata": {},
   "outputs": [],
   "source": [
    "def calc_Delta_T(beta, G):\n",
    "    '''given a beta value, find the time for the disease to go from 50 to 500 infecteds'''\n",
    "\n",
    "    ## define the SEIR model dynamics\n",
    "    spontaneous_transition_graph = nx.DiGraph()\n",
    "    spontaneous_transition_graph.add_node('S')\n",
    "    spontaneous_transition_graph.add_edge('E', 'I', rate = 1/3)\n",
    "    spontaneous_transition_graph.add_edge('I', 'R', rate = 1/14)\n",
    "\n",
    "    nbr_induced_transition_graph = nx.DiGraph()\n",
    "    nbr_induced_transition_graph.add_edge(('I', 'S'), ('I', 'E'), rate = beta, weight_label='weight')\n",
    "    \n",
    "    return_statuses = ('S', 'E', 'I', 'R')    \n",
    "    \n",
    "    initial_condition = collections.defaultdict(lambda: 'S')\n",
    "    init_nodes = initial_nodes(G)\n",
    "    for node in init_nodes:\n",
    "        initial_condition[node] = 'I'\n",
    "    \n",
    "    t, S, E, I, R = EoN.Gillespie_simple_contagion(G, \n",
    "                                   spontaneous_transition_graph, \n",
    "                                   nbr_induced_transition_graph,\n",
    "                                   initial_condition, \n",
    "                                   return_statuses,\n",
    "                                   tmax=100)\n",
    "    \n",
    "    ## in some runs the pandemic doesn't take off\n",
    "    try:\n",
    "        t50 = t[np.argwhere(I >= 50)[0]]\n",
    "        t500 = t[np.argwhere(I >= 500)[0]]\n",
    "        return (t500 - t50)[0]\n",
    "    except:\n",
    "        return None"
   ]
  },
  {
   "cell_type": "code",
   "execution_count": 12,
   "metadata": {},
   "outputs": [
    {
     "data": {
      "text/plain": [
       "7.0568899780864225"
      ]
     },
     "execution_count": 12,
     "metadata": {},
     "output_type": "execute_result"
    }
   ],
   "source": [
    "calc_Delta_T(5, G_post)"
   ]
  },
  {
   "cell_type": "code",
   "execution_count": 13,
   "metadata": {},
   "outputs": [],
   "source": [
    "beta = 1.5\n",
    "iterations = 100"
   ]
  },
  {
   "cell_type": "code",
   "execution_count": 14,
   "metadata": {},
   "outputs": [
    {
     "name": "stdout",
     "output_type": "stream",
     "text": [
      "beta = 1.500, Delta T = 12.473, Failed Runs = 31\n",
      "beta = 1.350, Delta T = 12.680, Failed Runs = 25\n",
      "beta = 1.215, Delta T = 15.808, Failed Runs = 22\n",
      "beta = 1.337, Delta T = 13.207, Failed Runs = 14\n",
      "beta =  1.3365000000000002\n"
     ]
    }
   ],
   "source": [
    "betalist = []\n",
    "Delta_T_list = []\n",
    "\n",
    "cond = True\n",
    "while cond:\n",
    "    \n",
    "    ## consider different runs for a given beta0 to account for the variability\n",
    "    Delta_T = [calc_Delta_T(beta, G_post) for i in range(iterations)]\n",
    "\n",
    "    ## remove the failed runs\n",
    "    num_failed = np.sum([i == None for i in Delta_T])\n",
    "    Delta_T = [t for t in Delta_T if t != None]\n",
    "\n",
    "    ## take an average\n",
    "    if len(Delta_T) >= 1:\n",
    "        Delta_T = np.mean(Delta_T)\n",
    "    else:\n",
    "        Delta_T = -1 \n",
    "        \n",
    "    ## assuming none of the calibration runs failed, adjust beta0\n",
    "    if Delta_T != -1:\n",
    "        ## record result\n",
    "        Delta_T_list.append(Delta_T)\n",
    "        print('beta = %.3f, Delta T = %.3f, Failed Runs = %i' %(beta, Delta_T, num_failed))\n",
    "\n",
    "        ## adjust tau\n",
    "        if Delta_T > 15:\n",
    "            beta = 1.1*beta\n",
    "        elif Delta_T < 13:\n",
    "            beta = 0.9*beta\n",
    "        \n",
    "        cond = not (13 < Delta_T and Delta_T < 15)\n",
    "        \n",
    "print('beta = ', beta)\n",
    "np.save('data/SEIR/beta', beta)"
   ]
  },
  {
   "cell_type": "markdown",
   "metadata": {},
   "source": [
    "## Example Run\n",
    "\n",
    "**Averaging the results of many runs**\n",
    "\n",
    "The motivation for using more than 1 iteration is to average the results of many simulations. We would like to make plots showing the average of many runs, plus error bars/confidence intervals showing the expected deviation from the mean in any one run. The issue is that the (smart) way the EoN package simulates temporal events means that the timesteps are different in each run. So we cannot simply average any of the S, E, I, R result arrays. \n",
    "\n",
    "To deal with this, I'll first find an interpolating function, and then average the results of the interpolation evaluated at the same sequence of times for each simulation run.\n",
    "\n",
    "**Note** This doesn't work if some of the runs die out quickly"
   ]
  },
  {
   "cell_type": "code",
   "execution_count": 15,
   "metadata": {},
   "outputs": [],
   "source": [
    "tlist = []\n",
    "Ilist = []\n",
    "Rlist = []\n",
    "for i in range(len(result['t'])):\n",
    "    if len(result['t'][i]) > 1000:\n",
    "        tlist.append(result['t'][i])\n",
    "        Ilist.append(result['I'][i])\n",
    "        Rlist.append(result['R'][i])"
   ]
  },
  {
   "cell_type": "code",
   "execution_count": 16,
   "metadata": {},
   "outputs": [
    {
     "data": {
      "image/png": "[encoded data removed]",
      "text/plain": [
       "<Figure size 648x432 with 1 Axes>"
      ]
     },
     "metadata": {
      "needs_background": "light"
     },
     "output_type": "display_data"
    }
   ],
   "source": [
    "t_int, results_int = interpolation(tlist, Ilist)\n",
    "\n",
    "fig, ax = plt.subplots(figsize=(9,6))\n",
    "\n",
    "for i in range(len(results_int)):\n",
    "    if i == 0:\n",
    "        ax.plot(t_int, results_int[i], color='k', alpha=1, linestyle='-', linewidth=3, label='interpolation')\n",
    "    else:\n",
    "        ax.plot(t_int, results_int[i], color='k', alpha=1, linestyle='-', linewidth=3)\n",
    "\n",
    "for i in range(len(results_int)):\n",
    "    if i == 0:\n",
    "        ax.plot(result['t'][i], result['I'][i], color='r', alpha=0.5, label='raw')\n",
    "    else:\n",
    "        ax.plot(result['t'][i], result['I'][i], color='r', alpha=0.5)\n",
    "        \n",
    "ax.set_title('Comparison: interpolations vs. raw results')\n",
    "ax.set_xlabel('$t$')\n",
    "ax.set_ylabel('Number infected')\n",
    "\n",
    "#ax.set_xlim([20, 25])\n",
    "#ax.set_ylim([5000, 30000])\n",
    "\n",
    "ax.legend()\n",
    "plt.show()"
   ]
  },
  {
   "cell_type": "markdown",
   "metadata": {},
   "source": [
    "Use the interpolation to plot the mean and confidence intervals."
   ]
  },
  {
   "cell_type": "code",
   "execution_count": 17,
   "metadata": {},
   "outputs": [],
   "source": [
    "mean, under, uppper = mean_confidence_interval(results_int)"
   ]
  },
  {
   "cell_type": "code",
   "execution_count": 18,
   "metadata": {},
   "outputs": [
    {
     "data": {
      "image/png": "[encoded data removed]",
      "text/plain": [
       "<Figure size 576x432 with 1 Axes>"
      ]
     },
     "metadata": {
      "needs_background": "light"
     },
     "output_type": "display_data"
    }
   ],
   "source": [
    "fig, ax = plt.subplots(figsize=(8,6))\n",
    "\n",
    "ax.plot(t_int, mean, color='k')\n",
    "ax.fill_between(t_int, under, uppper, color='k', alpha=0.2)\n",
    "ax.set_title('Example plot: confidence intervals')\n",
    "ax.set_xlabel('$t$')\n",
    "ax.set_ylabel('Number infected')\n",
    "\n",
    "plt.show()"
   ]
  },
  {
   "cell_type": "markdown",
   "metadata": {},
   "source": [
    "Analyze the peak infected and total number infected:"
   ]
  },
  {
   "cell_type": "code",
   "execution_count": 19,
   "metadata": {},
   "outputs": [
    {
     "name": "stdout",
     "output_type": "stream",
     "text": [
      "avg. peak infected: 17941.67\n",
      "avg. peak infected (fraction): 0.08\n",
      "avg. total infected: 59527.67\n",
      "avg. total infected (fraction): 0.28\n"
     ]
    }
   ],
   "source": [
    "print('avg. peak infected: %.2f' % np.mean([np.max(Ilist[i]) for i in range(len(Ilist))]))\n",
    "print('avg. peak infected (fraction): %.2f' % np.mean([np.max(Ilist[i])/G_pre.number_of_nodes() for i in range(len(Ilist))]))\n",
    "\n",
    "print('avg. total infected: %.2f' % np.mean([Rlist[i][-1] for i in range(len(Ilist))]))\n",
    "print('avg. total infected (fraction): %.2f' % np.mean([Rlist[i][-1]/G_pre.number_of_nodes() for i in range(len(Ilist))]))"
   ]
  },
  {
   "cell_type": "markdown",
   "metadata": {},
   "source": [
    "## Scan over vaccination fraction $f$"
   ]
  },
  {
   "cell_type": "code",
   "execution_count": 20,
   "metadata": {},
   "outputs": [
    {
     "data": {
      "text/plain": [
       "1.3365000000000002"
      ]
     },
     "execution_count": 20,
     "metadata": {},
     "output_type": "execute_result"
    }
   ],
   "source": [
    "beta"
   ]
  },
  {
   "cell_type": "markdown",
   "metadata": {},
   "source": [
    "First, consider the same small set of vaccination fractions for each strategy so that we can directly compare them."
   ]
  },
  {
   "cell_type": "code",
   "execution_count": 21,
   "metadata": {},
   "outputs": [],
   "source": [
    "tmax = np.inf\n",
    "socialdistlist = ['pre', 'post']\n",
    "vacclist = ['none', 'uniform', 'targeted']\n",
    "flist = [0.01, 0.02, 0.04, 0.06, 0.08, 0.1]"
   ]
  },
  {
   "cell_type": "code",
   "execution_count": 22,
   "metadata": {},
   "outputs": [
    {
     "name": "stdout",
     "output_type": "stream",
     "text": [
      "socialdist = pre\n",
      "vaccination = none\n",
      "vaccination = uniform\n"
     ]
    },
    {
     "data": {
      "application/vnd.jupyter.widget-view+json": {
       "model_id": "2d28a55bcb9c47c88854baa65853796f",
       "version_major": 2,
       "version_minor": 0
      },
      "text/plain": [
       "  0%|          | 0/6 [00:00<?, ?it/s]"
      ]
     },
     "metadata": {},
     "output_type": "display_data"
    },
    {
     "name": "stdout",
     "output_type": "stream",
     "text": [
      "vaccination = targeted\n"
     ]
    },
    {
     "data": {
      "application/vnd.jupyter.widget-view+json": {
       "model_id": "71de06f6bc3d4970a9378ec58490c887",
       "version_major": 2,
       "version_minor": 0
      },
      "text/plain": [
       "  0%|          | 0/6 [00:00<?, ?it/s]"
      ]
     },
     "metadata": {},
     "output_type": "display_data"
    },
    {
     "name": "stdout",
     "output_type": "stream",
     "text": [
      "socialdist = post\n",
      "vaccination = none\n",
      "vaccination = uniform\n"
     ]
    },
    {
     "data": {
      "application/vnd.jupyter.widget-view+json": {
       "model_id": "05c261259fba4b20b115b367d656b4ee",
       "version_major": 2,
       "version_minor": 0
      },
      "text/plain": [
       "  0%|          | 0/6 [00:00<?, ?it/s]"
      ]
     },
     "metadata": {},
     "output_type": "display_data"
    },
    {
     "name": "stdout",
     "output_type": "stream",
     "text": [
      "vaccination = targeted\n"
     ]
    },
    {
     "data": {
      "application/vnd.jupyter.widget-view+json": {
       "model_id": "5a18634e9aa14f43a1baa1de342e6248",
       "version_major": 2,
       "version_minor": 0
      },
      "text/plain": [
       "  0%|          | 0/6 [00:00<?, ?it/s]"
      ]
     },
     "metadata": {},
     "output_type": "display_data"
    }
   ],
   "source": [
    "## loop over scenarios\n",
    "for socialdist in socialdistlist:\n",
    "    \n",
    "    print('socialdist = %s' %socialdist)\n",
    "    \n",
    "    for vacc in vacclist:\n",
    "\n",
    "        ## no vaccination\n",
    "        if vacc == 'none':\n",
    "            print('vaccination = %s' %vacc)\n",
    "            name = socialdist + '_' + vacc\n",
    "            result = run_model(iterations=iterations, \n",
    "                               beta=beta, \n",
    "                               socialdist=socialdist, \n",
    "                               vacc=vacc, \n",
    "                               vacc_f=0,\n",
    "                               tmax=tmax)\n",
    "            \n",
    "            ## save\n",
    "            with open('data/SEIR/results_' + name + '.txt', 'wb') as file:\n",
    "                pickle.dump(result, file)            \n",
    "\n",
    "        ## vaccination: scan over f\n",
    "        else:\n",
    "                \n",
    "            print('vaccination = %s' %vacc)\n",
    "            for i in tqdm(range(len(flist))):\n",
    "                name = socialdist + '_' + vacc + '_' + str(flist[i])                \n",
    "                result  = run_model(iterations=iterations, \n",
    "                                   beta=beta, \n",
    "                                   socialdist=socialdist, \n",
    "                                   vacc=vacc, \n",
    "                                   vacc_f=flist[i],\n",
    "                                   tmax=tmax)\n",
    "\n",
    "                ## save\n",
    "                with open('data/SEIR/results_' + name + '.txt', 'wb') as file:\n",
    "                    pickle.dump(result, file)"
   ]
  },
  {
   "cell_type": "markdown",
   "metadata": {},
   "source": [
    "Next, use a different range of f values for each strategy."
   ]
  },
  {
   "cell_type": "code",
   "execution_count": 23,
   "metadata": {},
   "outputs": [],
   "source": [
    "flist_pre_uniform = np.linspace(0.01, 0.9, 40)\n",
    "flist_post_uniform = np.linspace(0.01, 0.6, 40)\n",
    "flist_pre_targeted = np.linspace(0.01, 0.3, 40)\n",
    "flist_post_targeted = np.linspace(0.001, 0.05, 40)\n",
    "\n",
    "np.save('data/SEIR/flist_pre_uniform', flist_pre_uniform)\n",
    "np.save('data/SEIR/flist_pre_targeted', flist_pre_targeted)\n",
    "np.save('data/SEIR/flist_post_uniform', flist_post_uniform)\n",
    "np.save('data/SEIR/flist_post_targeted', flist_post_targeted)"
   ]
  },
  {
   "cell_type": "code",
   "execution_count": 24,
   "metadata": {},
   "outputs": [
    {
     "name": "stdout",
     "output_type": "stream",
     "text": [
      "socialdist = pre\n",
      "vaccination = uniform\n"
     ]
    },
    {
     "data": {
      "application/vnd.jupyter.widget-view+json": {
       "model_id": "5d346894d75c4bfdb1b97479a39c9b96",
       "version_major": 2,
       "version_minor": 0
      },
      "text/plain": [
       "  0%|          | 0/40 [00:00<?, ?it/s]"
      ]
     },
     "metadata": {},
     "output_type": "display_data"
    },
    {
     "name": "stdout",
     "output_type": "stream",
     "text": [
      "vaccination = targeted\n"
     ]
    },
    {
     "data": {
      "application/vnd.jupyter.widget-view+json": {
       "model_id": "ed734983edf24cc38cc8446d5ac3e0ce",
       "version_major": 2,
       "version_minor": 0
      },
      "text/plain": [
       "  0%|          | 0/40 [00:00<?, ?it/s]"
      ]
     },
     "metadata": {},
     "output_type": "display_data"
    },
    {
     "name": "stdout",
     "output_type": "stream",
     "text": [
      "socialdist = post\n",
      "vaccination = uniform\n"
     ]
    },
    {
     "data": {
      "application/vnd.jupyter.widget-view+json": {
       "model_id": "da840fc259c643c38f863b584dca8948",
       "version_major": 2,
       "version_minor": 0
      },
      "text/plain": [
       "  0%|          | 0/40 [00:00<?, ?it/s]"
      ]
     },
     "metadata": {},
     "output_type": "display_data"
    },
    {
     "name": "stdout",
     "output_type": "stream",
     "text": [
      "vaccination = targeted\n"
     ]
    },
    {
     "data": {
      "application/vnd.jupyter.widget-view+json": {
       "model_id": "afa5af684fe2409687066d21f502c54a",
       "version_major": 2,
       "version_minor": 0
      },
      "text/plain": [
       "  0%|          | 0/40 [00:00<?, ?it/s]"
      ]
     },
     "metadata": {},
     "output_type": "display_data"
    }
   ],
   "source": [
    "tmax = np.inf\n",
    "socialdistlist = ['pre', 'post']\n",
    "vacclist = ['uniform', 'targeted']\n",
    "\n",
    "## loop over scenarios\n",
    "for socialdist in socialdistlist:\n",
    "    \n",
    "    print('socialdist = %s' %socialdist)\n",
    "    \n",
    "    for vacc in vacclist:\n",
    "\n",
    "        ## no vaccination\n",
    "        if vacc == 'none':\n",
    "            print('vaccination = %s' %vacc)\n",
    "            name = socialdist + '_' + vacc\n",
    "            result = run_model(iterations=iterations, \n",
    "                               beta=beta, \n",
    "                               socialdist=socialdist, \n",
    "                               vacc=vacc, \n",
    "                               vacc_f=0,\n",
    "                               tmax=tmax)\n",
    "             \n",
    "            ## save\n",
    "            with open('data/SEIR/results_' + name + '.txt', 'wb') as file:\n",
    "                pickle.dump(result, file)            \n",
    "\n",
    "        ## vaccination: scan over f\n",
    "        else:\n",
    "            \n",
    "            if vacc == 'uniform' and socialdist == 'pre':\n",
    "                flist = flist_pre_uniform\n",
    "            elif vacc == 'targeted' and socialdist == 'pre':\n",
    "                flist = flist_pre_targeted\n",
    "            elif vacc == 'uniform' and socialdist == 'post':\n",
    "                flist = flist_post_uniform\n",
    "            elif vacc == 'targeted' and socialdist == 'post':\n",
    "                flist = flist_post_targeted\n",
    "                \n",
    "            print('vaccination = %s' %vacc)\n",
    "            for i in tqdm(range(len(flist))):\n",
    "                name = socialdist + '_' + vacc + '_' + str(flist[i])         \n",
    "                result  = run_model(iterations=iterations, \n",
    "                                   beta=beta, \n",
    "                                   socialdist=socialdist, \n",
    "                                   vacc=vacc, \n",
    "                                   vacc_f=flist[i],\n",
    "                                   tmax=tmax)\n",
    "\n",
    "                ## save\n",
    "                with open('data/SEIR/results_' + name + '.txt', 'wb') as file:\n",
    "                    pickle.dump(result, file)"
   ]
  },
  {
   "cell_type": "code",
   "execution_count": null,
   "metadata": {},
   "outputs": [],
   "source": []
  }
 ],
 "metadata": {
  "kernelspec": {
   "display_name": "Python (eon)",
   "language": "python",
   "name": "eon"
  },
  "language_info": {
   "codemirror_mode": {
    "name": "ipython",
    "version": 3
   },
   "file_extension": ".py",
   "mimetype": "text/x-python",
   "name": "python",
   "nbconvert_exporter": "python",
   "pygments_lexer": "ipython3",
   "version": "3.8.8"
  }
 },
 "nbformat": 4,
 "nbformat_minor": 4
}
